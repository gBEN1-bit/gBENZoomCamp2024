{
 "cells": [
  {
   "cell_type": "code",
   "execution_count": 1,
   "id": "2808fabb-bfab-42d5-b986-e085aef1482d",
   "metadata": {},
   "outputs": [
    {
     "name": "stdout",
     "output_type": "stream",
     "text": [
      "Hello World in Codespaces\n"
     ]
    }
   ],
   "source": [
    "print('Hello World in Codespaces')"
   ]
  },
  {
   "cell_type": "code",
   "execution_count": null,
   "id": "fe6fb299-f567-49a6-bdfd-372fddcbb956",
   "metadata": {},
   "outputs": [],
   "source": [
    "    "
   ]
  }
 ],
 "metadata": {
  "kernelspec": {
   "display_name": "Python 3 (ipykernel)",
   "language": "python",
   "name": "python3"
  },
  "language_info": {
   "codemirror_mode": {
    "name": "ipython",
    "version": 3
   },
   "file_extension": ".py",
   "mimetype": "text/x-python",
   "name": "python",
   "nbconvert_exporter": "python",
   "pygments_lexer": "ipython3",
   "version": "3.10.13"
  }
 },
 "nbformat": 4,
 "nbformat_minor": 5
}
